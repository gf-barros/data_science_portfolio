{
 "cells": [
  {
   "cell_type": "markdown",
   "metadata": {
    "pycharm": {
     "name": "#%% md\n"
    }
   },
   "source": [
    "# The ROC Curve"
   ]
  },
  {
   "cell_type": "markdown",
   "metadata": {
    "pycharm": {
     "name": "#%% md\n"
    }
   },
   "source": [
    "### Notebook Contents\n",
    "- Quick theoretical overview\n",
    "- Practical example on the Breast Cancer Dataset"
   ]
  },
  {
   "cell_type": "markdown",
   "metadata": {
    "pycharm": {
     "name": "#%% md\n"
    }
   },
   "source": [
    "## Quick overview"
   ]
  },
  {
   "cell_type": "markdown",
   "metadata": {
    "pycharm": {
     "name": "#%% md\n"
    }
   },
   "source": [
    "In this notebook, we are constructing a ROC curve from scratch, using its own definition. The ROC curve is built when plotting the TPR (True Positive Rate) versus the FPR (False Positive Rate) of a given validation set. These two metrics can be computed as:\n",
    "\n",
    "- $TPR = \\frac{TP}{TP + FN}$\n",
    "- $FPR = \\frac{FP}{FP + TN}$\n",
    "\n",
    "where $TP$, $FP$, $TN$ and $FN$ are, respectively, the count of True Positives, False Positives, True Negatives and False Negatives obtained from the Confusion Matrix of a given validation set. For a binary classification problem (which is our case in the notebook), the confusion matrix resembles the following:\n",
    "\n",
    "|  | Prediction 1 | Prediction 0 |\n",
    "| --- | --- | --- |\n",
    "| Label 1 | TP | FN|\n",
    "| Label 0 | FP| TN |\n",
    "\n",
    "That is, when a given record is labeled as $1$ and (correctly) predicted as $1$, it counts as a True Positive ($TP$) prediction. The next correct predicted records are the True Negatives ($TN$), that occur when a record is labeled as $0$ and correctly predicted as $0$. However, the classifier also makes mistakes and wrongly predicts the class of a record. When the record is labeled as $0$, and the classifier predicts it as a positive (label $1$), the result is a False Positive ($FP$). When the opposite occurs, the result is a False Negative ($FN$). A theoretical perfect classifier would have numbers different from zero only on the diagonals of the confusion matrix, that is, would never predict any label wrongly.\n",
    "However, the output a Machine Learning model for a classification problem is usually a probability of the prediction. In most cases, the ML engineers or data scientists are responsible to assigning a given threshold between $0$ and $1$ that converts the probability into a prediction. Low threshold values (for instance 0.1) would classify records with low probabilities into positive classes and increase the $FP$ while decreasing the $FN$ of the confusion matrix. This would lead to a larger chance to correctly predict a few examples with low probabilities at the cost of adding positive predictions on negative labels. The opposite is also true, a larger threshold would not correctly predict positive cases but would correctly predict more negative labels. The choice of the final threshold largely relies on the problem. The ROC curve, however, is constructed by varying the threshold and computing the metrics given that the confusion matrix is different for each set of predictions. That said, let's show how it works with an example:"
   ]
  },
  {
   "cell_type": "markdown",
   "metadata": {},
   "source": [
    "## Practical Example"
   ]
  },
  {
   "cell_type": "markdown",
   "metadata": {},
   "source": [
    "Here we load all the needed packages for our example. Note that there are some functions in the `utils` directory. "
   ]
  },
  {
   "cell_type": "code",
   "execution_count": 1,
   "metadata": {},
   "outputs": [],
   "source": [
    "from matplotlib import pyplot as plt\n",
    "import numpy as np\n",
    "import pandas as pd\n",
    "import seaborn as sns\n",
    "from sklearn.datasets import load_breast_cancer\n",
    "from sklearn.metrics import roc_curve\n",
    "from sklearn.model_selection import train_test_split\n",
    "from sklearn.linear_model import LogisticRegression\n",
    "\n",
    "from utils import compute_confusion_matrix, compute_tpr_fpr, display_side_by_side\n",
    "\n"
   ]
  },
  {
   "cell_type": "markdown",
   "metadata": {
    "pycharm": {
     "name": "#%% md\n"
    }
   },
   "source": [
    "The Breast Cancer Dataset contains 569 records and 30 features. Before going into the ROC curve, let's take a good look at the confusion matrix of a stratified validation set of 20% of the data. We'll create three confusion matrices for the thresholds of 0.1, 0.5 and 0.9."
   ]
  },
  {
   "cell_type": "code",
   "execution_count": 2,
   "metadata": {
    "pycharm": {
     "name": "#%%\n"
    }
   },
   "outputs": [
    {
     "data": {
      "text/html": [
       "<th style=\"text-align:center\"><td style=\"vertical-align:top\"><h2>Low Threshold</h2><table style=\"display:inline\" border=\"1\" class=\"dataframe\">\n",
       "  <thead>\n",
       "    <tr>\n",
       "      <th></th>\n",
       "      <th></th>\n",
       "      <th colspan=\"2\" halign=\"left\">Prediction</th>\n",
       "    </tr>\n",
       "    <tr>\n",
       "      <th></th>\n",
       "      <th></th>\n",
       "      <th>1</th>\n",
       "      <th>0</th>\n",
       "    </tr>\n",
       "  </thead>\n",
       "  <tbody>\n",
       "    <tr>\n",
       "      <th rowspan=\"2\" valign=\"top\">True</th>\n",
       "      <th>1</th>\n",
       "      <td>35</td>\n",
       "      <td>7</td>\n",
       "    </tr>\n",
       "    <tr>\n",
       "      <th>0</th>\n",
       "      <td>0</td>\n",
       "      <td>72</td>\n",
       "    </tr>\n",
       "  </tbody>\n",
       "</table style=\"display:inline\"></td></th><th style=\"text-align:center\"><td style=\"vertical-align:top\"><h2>Medium Threshold</h2><table style=\"display:inline\" border=\"1\" class=\"dataframe\">\n",
       "  <thead>\n",
       "    <tr>\n",
       "      <th></th>\n",
       "      <th></th>\n",
       "      <th colspan=\"2\" halign=\"left\">Prediction</th>\n",
       "    </tr>\n",
       "    <tr>\n",
       "      <th></th>\n",
       "      <th></th>\n",
       "      <th>1</th>\n",
       "      <th>0</th>\n",
       "    </tr>\n",
       "  </thead>\n",
       "  <tbody>\n",
       "    <tr>\n",
       "      <th rowspan=\"2\" valign=\"top\">True</th>\n",
       "      <th>1</th>\n",
       "      <td>39</td>\n",
       "      <td>3</td>\n",
       "    </tr>\n",
       "    <tr>\n",
       "      <th>0</th>\n",
       "      <td>2</td>\n",
       "      <td>70</td>\n",
       "    </tr>\n",
       "  </tbody>\n",
       "</table style=\"display:inline\"></td></th><th style=\"text-align:center\"><td style=\"vertical-align:top\"><h2>High Threshold</h2><table style=\"display:inline\" border=\"1\" class=\"dataframe\">\n",
       "  <thead>\n",
       "    <tr>\n",
       "      <th></th>\n",
       "      <th></th>\n",
       "      <th colspan=\"2\" halign=\"left\">Prediction</th>\n",
       "    </tr>\n",
       "    <tr>\n",
       "      <th></th>\n",
       "      <th></th>\n",
       "      <th>1</th>\n",
       "      <th>0</th>\n",
       "    </tr>\n",
       "  </thead>\n",
       "  <tbody>\n",
       "    <tr>\n",
       "      <th rowspan=\"2\" valign=\"top\">True</th>\n",
       "      <th>1</th>\n",
       "      <td>42</td>\n",
       "      <td>0</td>\n",
       "    </tr>\n",
       "    <tr>\n",
       "      <th>0</th>\n",
       "      <td>13</td>\n",
       "      <td>59</td>\n",
       "    </tr>\n",
       "  </tbody>\n",
       "</table style=\"display:inline\"></td></th>"
      ]
     },
     "metadata": {},
     "output_type": "display_data"
    }
   ],
   "source": [
    "# Load dataset\n",
    "X, y = load_breast_cancer(return_X_y=True)\n",
    "\n",
    "X_train, X_valid, y_train, y_valid = train_test_split(X, y, test_size=0.2, stratify=y, random_state=42)\n",
    "clf = LogisticRegression(random_state=0, solver='liblinear').fit(X, y.reshape(-1))\n",
    "clf.fit(X_train, y_train)  # Fit\n",
    "y_pred_proba = clf.predict_proba(X_valid)[:, 1]\n",
    "\n",
    "low_thresh_conf_matrix = compute_confusion_matrix(y_valid, y_pred_proba, threshold=0.1)\n",
    "med_thresh_conf_matrix = compute_confusion_matrix(y_valid, y_pred_proba, threshold=0.5)\n",
    "high_thresh_conf_matrix = compute_confusion_matrix(y_valid, y_pred_proba, threshold=0.9)\n",
    "\n",
    "display_side_by_side(low_thresh_conf_matrix, \n",
    "                     med_thresh_conf_matrix, \n",
    "                     high_thresh_conf_matrix, \n",
    "                     titles=[\"Low Threshold\", \"Medium Threshold\", \"High Threshold\"])"
   ]
  },
  {
   "cell_type": "markdown",
   "metadata": {},
   "source": [
    "Note that:\n",
    "\n",
    "* for the `Low Threshold` case, we had a small number of $FP$ and a large number of $FN$\n",
    "* for the `Medium Threshold` case, we had a similar number of both $FP$ and $FN$\n",
    "* for the `High Threshold`case, we had a small number of $FN$ and a large number of $FP$\n",
    "\n",
    "Now we proceed to compute the $TPR$ and $FPR$ metrics required for the ROC curve:"
   ]
  },
  {
   "cell_type": "code",
   "execution_count": 3,
   "metadata": {
    "pycharm": {
     "name": "#%%\n"
    }
   },
   "outputs": [
    {
     "data": {
      "text/html": [
       "<div>\n",
       "<style scoped>\n",
       "    .dataframe tbody tr th:only-of-type {\n",
       "        vertical-align: middle;\n",
       "    }\n",
       "\n",
       "    .dataframe tbody tr th {\n",
       "        vertical-align: top;\n",
       "    }\n",
       "\n",
       "    .dataframe thead th {\n",
       "        text-align: right;\n",
       "    }\n",
       "</style>\n",
       "<table border=\"1\" class=\"dataframe\">\n",
       "  <thead>\n",
       "    <tr style=\"text-align: right;\">\n",
       "      <th></th>\n",
       "      <th>Threshold</th>\n",
       "      <th>TPR</th>\n",
       "      <th>FPR</th>\n",
       "    </tr>\n",
       "  </thead>\n",
       "  <tbody>\n",
       "    <tr>\n",
       "      <th>0</th>\n",
       "      <td>Low</td>\n",
       "      <td>0.833333</td>\n",
       "      <td>0.0</td>\n",
       "    </tr>\n",
       "    <tr>\n",
       "      <th>1</th>\n",
       "      <td>Medium</td>\n",
       "      <td>0.928571</td>\n",
       "      <td>0.027778</td>\n",
       "    </tr>\n",
       "    <tr>\n",
       "      <th>2</th>\n",
       "      <td>High</td>\n",
       "      <td>1.0</td>\n",
       "      <td>0.180556</td>\n",
       "    </tr>\n",
       "  </tbody>\n",
       "</table>\n",
       "</div>"
      ],
      "text/plain": [
       "  Threshold       TPR       FPR\n",
       "0       Low  0.833333       0.0\n",
       "1    Medium  0.928571  0.027778\n",
       "2      High       1.0  0.180556"
      ]
     },
     "execution_count": 3,
     "metadata": {},
     "output_type": "execute_result"
    }
   ],
   "source": [
    "# Compute TPR and FPR for the three tested cases\n",
    "confusion_matrices = {'Low' : low_thresh_conf_matrix,\n",
    "                      'Medium' : med_thresh_conf_matrix,\n",
    "                      'High' : high_thresh_conf_matrix}\n",
    "\n",
    "df_metrics = compute_tpr_fpr(confusion_matrices)\n",
    "df_metrics.head()"
   ]
  },
  {
   "cell_type": "markdown",
   "metadata": {},
   "source": [
    "Let's plot the three points for the three tested cases. They are a good indicator that our ROC curve looks good!"
   ]
  },
  {
   "cell_type": "code",
   "execution_count": 4,
   "metadata": {},
   "outputs": [
    {
     "data": {
      "image/png": "[encoded data removed]",
      "text/plain": [
       "<Figure size 432x288 with 1 Axes>"
      ]
     },
     "metadata": {
      "needs_background": "light"
     },
     "output_type": "display_data"
    }
   ],
   "source": [
    "# Plot the three points\n",
    "ax = sns.lineplot(data=df_metrics,\n",
    "             x='FPR',\n",
    "             y='TPR',\n",
    "             marker='o')\n",
    "ax.set(ylim=(0,1), xlim=(0,1))\n",
    "plt.show()\n",
    "             "
   ]
  },
  {
   "cell_type": "markdown",
   "metadata": {},
   "source": [
    "Let's compute a more rich ROC curve using 22 equally spaced points for various thresholds (from 0.00 to 1.00 using a step of 0.05)."
   ]
  },
  {
   "cell_type": "code",
   "execution_count": 5,
   "metadata": {
    "pycharm": {
     "name": "#%%\n"
    }
   },
   "outputs": [
    {
     "data": {
      "text/html": [
       "<div>\n",
       "<style scoped>\n",
       "    .dataframe tbody tr th:only-of-type {\n",
       "        vertical-align: middle;\n",
       "    }\n",
       "\n",
       "    .dataframe tbody tr th {\n",
       "        vertical-align: top;\n",
       "    }\n",
       "\n",
       "    .dataframe thead th {\n",
       "        text-align: right;\n",
       "    }\n",
       "</style>\n",
       "<table border=\"1\" class=\"dataframe\">\n",
       "  <thead>\n",
       "    <tr style=\"text-align: right;\">\n",
       "      <th></th>\n",
       "      <th>Threshold</th>\n",
       "      <th>TPR</th>\n",
       "      <th>FPR</th>\n",
       "    </tr>\n",
       "  </thead>\n",
       "  <tbody>\n",
       "    <tr>\n",
       "      <th>0</th>\n",
       "      <td>0.0</td>\n",
       "      <td>0.0</td>\n",
       "      <td>0.0</td>\n",
       "    </tr>\n",
       "    <tr>\n",
       "      <th>1</th>\n",
       "      <td>0.05</td>\n",
       "      <td>0.833333</td>\n",
       "      <td>0.0</td>\n",
       "    </tr>\n",
       "    <tr>\n",
       "      <th>2</th>\n",
       "      <td>0.1</td>\n",
       "      <td>0.833333</td>\n",
       "      <td>0.0</td>\n",
       "    </tr>\n",
       "    <tr>\n",
       "      <th>3</th>\n",
       "      <td>0.15000000000000002</td>\n",
       "      <td>0.857143</td>\n",
       "      <td>0.0</td>\n",
       "    </tr>\n",
       "    <tr>\n",
       "      <th>4</th>\n",
       "      <td>0.2</td>\n",
       "      <td>0.857143</td>\n",
       "      <td>0.0</td>\n",
       "    </tr>\n",
       "  </tbody>\n",
       "</table>\n",
       "</div>"
      ],
      "text/plain": [
       "             Threshold       TPR  FPR\n",
       "0                  0.0       0.0  0.0\n",
       "1                 0.05  0.833333  0.0\n",
       "2                  0.1  0.833333  0.0\n",
       "3  0.15000000000000002  0.857143  0.0\n",
       "4                  0.2  0.857143  0.0"
      ]
     },
     "execution_count": 5,
     "metadata": {},
     "output_type": "execute_result"
    }
   ],
   "source": [
    "# Compute the ROC curve for 22 points (threshold ranging from 0.00 to 1.00 using a 0.05 step)\n",
    "confusion_matrices = {}\n",
    "for thresh in np.arange(0.00,1.05,0.05):\n",
    "    df_confusion = compute_confusion_matrix(y_valid, y_pred_proba, threshold=thresh)\n",
    "    confusion_matrices[str(thresh)] = df_confusion\n",
    "\n",
    "df_metrics = compute_tpr_fpr(confusion_matrices)\n",
    "df_metrics.head()"
   ]
  },
  {
   "cell_type": "markdown",
   "metadata": {},
   "source": [
    "Let's plot our new points and compare with the ROC curve created by `sklearn` "
   ]
  },
  {
   "cell_type": "code",
   "execution_count": 6,
   "metadata": {},
   "outputs": [
    {
     "data": {
      "image/png": "[encoded data removed]",
      "text/plain": [
       "<Figure size 720x360 with 2 Axes>"
      ]
     },
     "metadata": {
      "needs_background": "light"
     },
     "output_type": "display_data"
    }
   ],
   "source": [
    "# Plot all points\n",
    "fig, axes = plt.subplots(1,2, sharex=True, sharey=True, figsize=(10,5))\n",
    "sns.lineplot(ax=axes[0],\n",
    "                  data=df_metrics,\n",
    "                  x='FPR',\n",
    "                  y='TPR',\n",
    "                  marker='o')\n",
    "axes[0].set(ylim=(0,1), xlim=(0,1))\n",
    "axes[0].set_title('Our ROC curve')\n",
    "\n",
    "fpr_sk, tpr_sk, thresh_sk = roc_curve(y_valid, y_pred_proba)\n",
    "df_metrics_sk = pd.DataFrame(zip(fpr_sk, tpr_sk), columns=['FPR', 'TPR'], index=thresh_sk).sort_index()\n",
    "sns.lineplot(ax=axes[1],\n",
    "                  data=df_metrics_sk,\n",
    "                  x='FPR',\n",
    "                  y='TPR',\n",
    "                  marker='o')\n",
    "axes[1].set(ylim=(0,1), xlim=(0,1))\n",
    "axes[1].set_title('Sklearn ROC curve')\n",
    "plt.show()"
   ]
  },
  {
   "cell_type": "markdown",
   "metadata": {},
   "source": [
    "Although they look similar (and indicating that our classifier is working well!), let's use the same thresholds used by `sklearn` to create a more similar version of our plot!"
   ]
  },
  {
   "cell_type": "code",
   "execution_count": 7,
   "metadata": {},
   "outputs": [
    {
     "data": {
      "text/html": [
       "<div>\n",
       "<style scoped>\n",
       "    .dataframe tbody tr th:only-of-type {\n",
       "        vertical-align: middle;\n",
       "    }\n",
       "\n",
       "    .dataframe tbody tr th {\n",
       "        vertical-align: top;\n",
       "    }\n",
       "\n",
       "    .dataframe thead th {\n",
       "        text-align: right;\n",
       "    }\n",
       "</style>\n",
       "<table border=\"1\" class=\"dataframe\">\n",
       "  <thead>\n",
       "    <tr style=\"text-align: right;\">\n",
       "      <th></th>\n",
       "      <th>Threshold</th>\n",
       "      <th>TPR</th>\n",
       "      <th>FPR</th>\n",
       "    </tr>\n",
       "  </thead>\n",
       "  <tbody>\n",
       "    <tr>\n",
       "      <th>0</th>\n",
       "      <td>1.9999248026821386</td>\n",
       "      <td>1.0</td>\n",
       "      <td>1.0</td>\n",
       "    </tr>\n",
       "    <tr>\n",
       "      <th>1</th>\n",
       "      <td>0.9999248026821387</td>\n",
       "      <td>1.0</td>\n",
       "      <td>0.986111</td>\n",
       "    </tr>\n",
       "    <tr>\n",
       "      <th>2</th>\n",
       "      <td>0.8421241986443315</td>\n",
       "      <td>1.0</td>\n",
       "      <td>0.083333</td>\n",
       "    </tr>\n",
       "    <tr>\n",
       "      <th>3</th>\n",
       "      <td>0.8303171610153073</td>\n",
       "      <td>0.97619</td>\n",
       "      <td>0.083333</td>\n",
       "    </tr>\n",
       "    <tr>\n",
       "      <th>4</th>\n",
       "      <td>0.7956795579996301</td>\n",
       "      <td>0.97619</td>\n",
       "      <td>0.055556</td>\n",
       "    </tr>\n",
       "  </tbody>\n",
       "</table>\n",
       "</div>"
      ],
      "text/plain": [
       "            Threshold      TPR       FPR\n",
       "0  1.9999248026821386      1.0       1.0\n",
       "1  0.9999248026821387      1.0  0.986111\n",
       "2  0.8421241986443315      1.0  0.083333\n",
       "3  0.8303171610153073  0.97619  0.083333\n",
       "4  0.7956795579996301  0.97619  0.055556"
      ]
     },
     "execution_count": 7,
     "metadata": {},
     "output_type": "execute_result"
    }
   ],
   "source": [
    "# Compute the ROC curve for the same threshold used in sklearn\n",
    "confusion_matrices = {}\n",
    "for thresh in thresh_sk:\n",
    "    df_confusion = compute_confusion_matrix(y_valid, y_pred_proba, threshold=thresh)\n",
    "    confusion_matrices[str(thresh)] = df_confusion\n",
    "\n",
    "df_metrics = compute_tpr_fpr(confusion_matrices)\n",
    "df_metrics.head()"
   ]
  },
  {
   "cell_type": "code",
   "execution_count": 8,
   "metadata": {},
   "outputs": [
    {
     "data": {
      "image/png": "[encoded data removed]",
      "text/plain": [
       "<Figure size 720x360 with 2 Axes>"
      ]
     },
     "metadata": {
      "needs_background": "light"
     },
     "output_type": "display_data"
    }
   ],
   "source": [
    "# Plot all points\n",
    "fig, axes = plt.subplots(1,2, sharex=True, sharey=True, figsize=(10,5))\n",
    "sns.lineplot(ax=axes[0],\n",
    "                  data=df_metrics,\n",
    "                  x='FPR',\n",
    "                  y='TPR',\n",
    "                  marker='o')\n",
    "axes[0].set(ylim=(0,1), xlim=(0,1))\n",
    "axes[0].set_title('Our ROC curve')\n",
    "\n",
    "sns.lineplot(ax=axes[1],\n",
    "                  data=df_metrics_sk,\n",
    "                  x='FPR',\n",
    "                  y='TPR',\n",
    "                  marker='o')\n",
    "axes[1].set(ylim=(0,1), xlim=(0,1))\n",
    "axes[1].set_title('Sklearn ROC curve')\n",
    "plt.show()"
   ]
  },
  {
   "cell_type": "markdown",
   "metadata": {},
   "source": [
    "That's it! Now you know how to build your own ROC curves for binary classification problems!\n",
    "\n",
    "For any suggestion, correction or improvement, e-mail me at gabrielfregugliabarros@gmail.com"
   ]
  }
 ],
 "metadata": {
  "interpreter": {
   "hash": "61262c0e55590fca642f7c7095a4a450df554009527bf2be503ded6812d53ddb"
  },
  "kernelspec": {
   "display_name": "data_science_env_kernel",
   "language": "python",
   "name": "data_science_env_kernel"
  },
  "language_info": {
   "codemirror_mode": {
    "name": "ipython",
    "version": 3
   },
   "file_extension": ".py",
   "mimetype": "text/x-python",
   "name": "python",
   "nbconvert_exporter": "python",
   "pygments_lexer": "ipython3",
   "version": "3.9.7"
  }
 },
 "nbformat": 4,
 "nbformat_minor": 4
}
